{
 "cells": [
  {
   "cell_type": "code",
   "execution_count": 2,
   "metadata": {},
   "outputs": [
    {
     "name": "stderr",
     "output_type": "stream",
     "text": [
      "Using TensorFlow backend.\n"
     ]
    }
   ],
   "source": [
    "# Make sure that you have all these libaries available to run the code successfully\n",
    "import quandl\n",
    "#from pandas_datareader import data\n",
    "import matplotlib.pyplot as plt\n",
    "import pandas as pd\n",
    "import datetime as dt\n",
    "import urllib.request, json\n",
    "import os\n",
    "import numpy as np\n",
    "from sklearn.preprocessing import MinMaxScaler\n",
    "\n",
    "from keras.models import Sequential\n",
    "from keras.layers import Dense\n",
    "from keras.layers import LSTM\n",
    "\n",
    "from sklearn.metrics import mean_squared_error\n",
    "\n",
    "# import pytz"
   ]
  },
  {
   "cell_type": "code",
   "execution_count": 28,
   "metadata": {},
   "outputs": [],
   "source": [
    "from pandas.plotting import register_matplotlib_converters\n",
    "register_matplotlib_converters()"
   ]
  },
  {
   "cell_type": "code",
   "execution_count": 13,
   "metadata": {},
   "outputs": [],
   "source": [
    "# Here we only get the data in S&P 500\n",
    "universe_df = pd.read_csv(\"sp500.csv\")\n",
    "universe = universe_df['Symbol'].tolist()\n",
    "end_date = '2018-03-27'\n",
    "begin_date = pd.Timestamp(end_date) - pd.DateOffset(months=24)\n",
    "def get_stock_data(ticker):\n",
    "\n",
    "    data_source = 'Yahoo Finance' # alphavantage or kaggle\n",
    "    \n",
    "    if data_source == 'Yahoo Finance':\n",
    "        df = pd.read_csv(\"SP500_constitutes_modified.csv\")\n",
    "        df[\"Date\"] = pd.to_datetime(df[\"Date\"])\n",
    "        df.set_index(\"Date\", inplace = True)\n",
    "        df = df[[ticker]]\n",
    "        \n",
    "    elif data_source == 'quantdl':\n",
    "        # ====================== Loading Data from Quandl ==================================\n",
    "\n",
    "        api_key = 'tv6mxJKZxRcTysJaHKc2'\n",
    "\n",
    "        # Save data to this file\n",
    "        file_to_save = 'stock_market_data-%s.csv'%ticker\n",
    "        quandl.ApiConfig.api_key = api_key\n",
    "         # If you haven't already saved data,\n",
    "        # Go ahead and grab the data from the url\n",
    "        # And store date, low, high, volume, close, open values to a Pandas DataFrame\n",
    "        if not os.path.exists(file_to_save):\n",
    "            df = quandl.get_table('WIKI/PRICES', qopts = { 'columns': ['date', 'close'] }, ticker = [ticker], date = { 'gte': '2016-03-27', 'lte': '2018-03-27' })        \n",
    "            df.to_csv(file_to_save)\n",
    "            \n",
    "            # If the data is already there, just load it from the CSV\n",
    "        else:\n",
    "            print('File already exists. Loading data from CSV')\n",
    "            df = pd.read_csv(file_to_save)\n",
    "    else:\n",
    "    \n",
    "        # ====================== Loading Data from Kaggle ==================================\n",
    "        # You will be using HP's data. Feel free to experiment with other data.\n",
    "        # But while doing so, be careful to have a large enough dataset and also pay attention to the data normalization\n",
    "        df = pd.read_csv(os.path.join('Stocks','hpq.us.txt'),delimiter=',',usecols=['Date','Open','High','Low','Close'])\n",
    "        print('Loaded data from the Kaggle repository')\n",
    "    \n",
    "    return df"
   ]
  },
  {
   "cell_type": "code",
   "execution_count": 14,
   "metadata": {},
   "outputs": [],
   "source": [
    "testing_pair = ['CME-US', 'ICE-US']\n",
    "df_1 = get_stock_data('CME-US')\n",
    "df_2 = get_stock_data('ICE-US')"
   ]
  },
  {
   "cell_type": "code",
   "execution_count": 15,
   "metadata": {},
   "outputs": [
    {
     "data": {
      "text/html": [
       "<div>\n",
       "<style scoped>\n",
       "    .dataframe tbody tr th:only-of-type {\n",
       "        vertical-align: middle;\n",
       "    }\n",
       "\n",
       "    .dataframe tbody tr th {\n",
       "        vertical-align: top;\n",
       "    }\n",
       "\n",
       "    .dataframe thead th {\n",
       "        text-align: right;\n",
       "    }\n",
       "</style>\n",
       "<table border=\"1\" class=\"dataframe\">\n",
       "  <thead>\n",
       "    <tr style=\"text-align: right;\">\n",
       "      <th></th>\n",
       "      <th>close</th>\n",
       "    </tr>\n",
       "  </thead>\n",
       "  <tbody>\n",
       "    <tr>\n",
       "      <th>2017-11-10</th>\n",
       "      <td>71.61</td>\n",
       "    </tr>\n",
       "    <tr>\n",
       "      <th>2017-11-13</th>\n",
       "      <td>73.07</td>\n",
       "    </tr>\n",
       "    <tr>\n",
       "      <th>2017-11-14</th>\n",
       "      <td>72.90</td>\n",
       "    </tr>\n",
       "    <tr>\n",
       "      <th>2017-11-15</th>\n",
       "      <td>73.14</td>\n",
       "    </tr>\n",
       "    <tr>\n",
       "      <th>2017-11-16</th>\n",
       "      <td>74.01</td>\n",
       "    </tr>\n",
       "    <tr>\n",
       "      <th>...</th>\n",
       "      <td>...</td>\n",
       "    </tr>\n",
       "    <tr>\n",
       "      <th>2019-11-22</th>\n",
       "      <td>113.15</td>\n",
       "    </tr>\n",
       "    <tr>\n",
       "      <th>2019-11-25</th>\n",
       "      <td>112.48</td>\n",
       "    </tr>\n",
       "    <tr>\n",
       "      <th>2019-11-26</th>\n",
       "      <td>111.40</td>\n",
       "    </tr>\n",
       "    <tr>\n",
       "      <th>2019-11-27</th>\n",
       "      <td>107.55</td>\n",
       "    </tr>\n",
       "    <tr>\n",
       "      <th>2019-11-29</th>\n",
       "      <td>108.56</td>\n",
       "    </tr>\n",
       "  </tbody>\n",
       "</table>\n",
       "<p>516 rows × 1 columns</p>\n",
       "</div>"
      ],
      "text/plain": [
       "             close\n",
       "2017-11-10   71.61\n",
       "2017-11-13   73.07\n",
       "2017-11-14   72.90\n",
       "2017-11-15   73.14\n",
       "2017-11-16   74.01\n",
       "...            ...\n",
       "2019-11-22  113.15\n",
       "2019-11-25  112.48\n",
       "2019-11-26  111.40\n",
       "2019-11-27  107.55\n",
       "2019-11-29  108.56\n",
       "\n",
       "[516 rows x 1 columns]"
      ]
     },
     "execution_count": 15,
     "metadata": {},
     "output_type": "execute_result"
    }
   ],
   "source": [
    "close1 = df_1[testing_pair[0]].tolist()\n",
    "close2 = df_2[testing_pair[1]].tolist()\n",
    "date_all = df_1.index.tolist()\n",
    "spread_close = [s1 - s2 for s1,s2 in zip(close1,close2)]\n",
    "spread_df = pd.DataFrame(spread_close, index = date_all, columns = ['close']) \n",
    "spread_df"
   ]
  },
  {
   "cell_type": "code",
   "execution_count": 16,
   "metadata": {},
   "outputs": [],
   "source": [
    "def create_dataset(dataset, look_back=1):\n",
    "\n",
    "    dataX, dataY = [], []\n",
    "    for i in range(len(dataset)-look_back-1):\n",
    "        dataX.append(dataset[i:(i+look_back),0])\n",
    "        dataY.append(dataset[i+look_back,0])\n",
    "\n",
    "    return np.array(dataX), np.array(dataY)\n"
   ]
  },
  {
   "cell_type": "code",
   "execution_count": 17,
   "metadata": {},
   "outputs": [],
   "source": [
    "# for debugging\n",
    "\n",
    "def load_data(data):\n",
    "    #load data\n",
    "    dataset = np.array(data['close'].values).reshape(-1,1)\n",
    "    dataset = dataset.astype('float64')\n",
    "\n",
    "    scaler = MinMaxScaler(feature_range=(0,1))\n",
    "    dataset = scaler.fit_transform(dataset)\n",
    "\n",
    "    # split into train and test sets\n",
    "    train_size = int(len(dataset) * 0.67)\n",
    "    test_size = len(dataset) - train_size\n",
    "    train, test = dataset[0:train_size,:], dataset[train_size:len(dataset),:]\n",
    "    # reshape for look_back\n",
    "    look_back = 10\n",
    "    X_train, y_train = create_dataset(train, look_back) # look_back = lag\n",
    "    X_test, y_test = create_dataset(test, look_back)\n",
    "\n",
    "    # reshape for LSTM [samples, time steps, features]\n",
    "    X_train = np.reshape(X_train, (X_train.shape[0], X_train.shape[1], 1))\n",
    "    X_test = np.reshape(X_test, (X_test.shape[0], X_test.shape[1], 1))\n",
    "    \n",
    "    return X_train, X_test"
   ]
  },
  {
   "cell_type": "code",
   "execution_count": 20,
   "metadata": {},
   "outputs": [
    {
     "data": {
      "text/plain": [
       "(334, 10, 1)"
      ]
     },
     "execution_count": 20,
     "metadata": {},
     "output_type": "execute_result"
    }
   ],
   "source": [
    "X_train, X_test = load_data(spread_df)\n",
    "X_train.shape"
   ]
  },
  {
   "cell_type": "code",
   "execution_count": 30,
   "metadata": {},
   "outputs": [],
   "source": [
    "def LSTM_model(data):\n",
    "\n",
    "    #load data\n",
    "    dataset = np.array(data['close'].values).reshape(-1,1)\n",
    "    dataset = dataset.astype('float64')\n",
    "\n",
    "    scaler = MinMaxScaler(feature_range=(0,1))\n",
    "    dataset = scaler.fit_transform(dataset)\n",
    "\n",
    "    # split into train and test sets\n",
    "    train_size = int(len(dataset) * 0.67)\n",
    "    test_size = len(dataset) - train_size\n",
    "    train, test = dataset[0:train_size,:], dataset[train_size:len(dataset),:]\n",
    "    # reshape for look_back\n",
    "    look_back = 10\n",
    "    X_train, y_train = create_dataset(train, look_back) # look_back = lag\n",
    "    X_test, y_test = create_dataset(test, look_back)\n",
    "\n",
    "    # reshape for LSTM [samples, time steps, features]\n",
    "    X_train = np.reshape(X_train, (X_train.shape[0], X_train.shape[1], 1))\n",
    "    X_test = np.reshape(X_test, (X_test.shape[0], X_test.shape[1], 1))\n",
    "\n",
    "    # LSTM\n",
    "    model = Sequential()\n",
    "    model.add(LSTM(32, input_dim=1)) #look_back))\n",
    "    model.add(Dense(1))\n",
    "\n",
    "    model.compile(loss='mean_squared_error', optimizer='adam')\n",
    "    model.fit(X_train, y_train, nb_epoch=100, batch_size=5, verbose=2)\n",
    "\n",
    "    train_pred = model.predict(X_train)\n",
    "    test_pred = model.predict(X_test) \n",
    "    \n",
    "    # scale back \n",
    "    train_pred = scaler.inverse_transform(train_pred)\n",
    "    y_train = scaler.inverse_transform(y_train.reshape(-1, 1))\n",
    "    test_pred = scaler.inverse_transform(test_pred)\n",
    "    y_test = scaler.inverse_transform(y_test.reshape(-1, 1))\n",
    "    \n",
    "    # shift predictions for plotting\n",
    "    train_pred_plot = np.empty_like(dataset)\n",
    "    train_pred_plot[:,:] = np.nan\n",
    "    train_pred_plot[look_back:len(train_pred)+look_back,:] = train_pred\n",
    "\n",
    "    test_pred_plot = np.empty_like(dataset)\n",
    "    test_pred_plot[:,:] = np.nan\n",
    "    test_pred_plot[len(train_pred)+(look_back*2)+1:len(dataset)-1,:] = test_pred\n",
    "\n",
    "    f = plt.figure()\n",
    "    plt.plot(scaler.inverse_transform(dataset), color='b', lw=2.0, label='True Spread')\n",
    "    plt.plot(train_pred_plot, color='g', lw=2.0, label='LSTM train')\n",
    "    plt.plot(test_pred_plot, color='r', lw=2.0, label='LSTM test')\n",
    "    plt.legend(loc=3)\n",
    "    plt.grid(True)\n",
    "    plt.show()\n",
    "    return y_train, train_pred, y_test, test_pred"
   ]
  },
  {
   "cell_type": "code",
   "execution_count": 31,
   "metadata": {},
   "outputs": [
    {
     "name": "stderr",
     "output_type": "stream",
     "text": [
      "/Library/Frameworks/Python.framework/Versions/3.7/lib/python3.7/site-packages/ipykernel_launcher.py:25: UserWarning: The `input_dim` and `input_length` arguments in recurrent layers are deprecated. Use `input_shape` instead.\n",
      "/Library/Frameworks/Python.framework/Versions/3.7/lib/python3.7/site-packages/ipykernel_launcher.py:25: UserWarning: Update your `LSTM` call to the Keras 2 API: `LSTM(32, input_shape=(None, 1))`\n",
      "/Library/Frameworks/Python.framework/Versions/3.7/lib/python3.7/site-packages/ipykernel_launcher.py:29: UserWarning: The `nb_epoch` argument in `fit` has been renamed `epochs`.\n"
     ]
    },
    {
     "name": "stdout",
     "output_type": "stream",
     "text": [
      "Epoch 1/100\n",
      " - 1s - loss: 0.0183\n",
      "Epoch 2/100\n",
      " - 0s - loss: 0.0025\n",
      "Epoch 3/100\n",
      " - 0s - loss: 0.0021\n",
      "Epoch 4/100\n",
      " - 0s - loss: 0.0021\n",
      "Epoch 5/100\n",
      " - 0s - loss: 0.0020\n",
      "Epoch 6/100\n",
      " - 0s - loss: 0.0021\n",
      "Epoch 7/100\n",
      " - 0s - loss: 0.0019\n",
      "Epoch 8/100\n",
      " - 0s - loss: 0.0020\n",
      "Epoch 9/100\n",
      " - 0s - loss: 0.0018\n",
      "Epoch 10/100\n",
      " - 0s - loss: 0.0019\n",
      "Epoch 11/100\n",
      " - 0s - loss: 0.0018\n",
      "Epoch 12/100\n",
      " - 0s - loss: 0.0018\n",
      "Epoch 13/100\n",
      " - 0s - loss: 0.0017\n",
      "Epoch 14/100\n",
      " - 0s - loss: 0.0017\n",
      "Epoch 15/100\n",
      " - 0s - loss: 0.0016\n",
      "Epoch 16/100\n",
      " - 0s - loss: 0.0016\n",
      "Epoch 17/100\n",
      " - 0s - loss: 0.0014\n",
      "Epoch 18/100\n",
      " - 0s - loss: 0.0016\n",
      "Epoch 19/100\n",
      " - 0s - loss: 0.0016\n",
      "Epoch 20/100\n",
      " - 0s - loss: 0.0015\n",
      "Epoch 21/100\n",
      " - 0s - loss: 0.0015\n",
      "Epoch 22/100\n",
      " - 0s - loss: 0.0014\n",
      "Epoch 23/100\n",
      " - 0s - loss: 0.0014\n",
      "Epoch 24/100\n",
      " - 0s - loss: 0.0013\n",
      "Epoch 25/100\n",
      " - 0s - loss: 0.0013\n",
      "Epoch 26/100\n",
      " - 0s - loss: 0.0014\n",
      "Epoch 27/100\n",
      " - 0s - loss: 0.0014\n",
      "Epoch 28/100\n",
      " - 0s - loss: 0.0013\n",
      "Epoch 29/100\n",
      " - 0s - loss: 0.0012\n",
      "Epoch 30/100\n",
      " - 0s - loss: 0.0012\n",
      "Epoch 31/100\n",
      " - 0s - loss: 0.0012\n",
      "Epoch 32/100\n",
      " - 0s - loss: 0.0012\n",
      "Epoch 33/100\n",
      " - 0s - loss: 0.0012\n",
      "Epoch 34/100\n",
      " - 0s - loss: 0.0012\n",
      "Epoch 35/100\n",
      " - 0s - loss: 0.0012\n",
      "Epoch 36/100\n",
      " - 0s - loss: 0.0012\n",
      "Epoch 37/100\n",
      " - 0s - loss: 0.0011\n",
      "Epoch 38/100\n",
      " - 0s - loss: 0.0011\n",
      "Epoch 39/100\n",
      " - 0s - loss: 0.0012\n",
      "Epoch 40/100\n",
      " - 0s - loss: 0.0011\n",
      "Epoch 41/100\n",
      " - 0s - loss: 0.0011\n",
      "Epoch 42/100\n",
      " - 0s - loss: 0.0011\n",
      "Epoch 43/100\n",
      " - 0s - loss: 0.0011\n",
      "Epoch 44/100\n",
      " - 0s - loss: 0.0012\n",
      "Epoch 45/100\n",
      " - 0s - loss: 0.0010\n",
      "Epoch 46/100\n",
      " - 0s - loss: 0.0010\n",
      "Epoch 47/100\n",
      " - 0s - loss: 0.0010\n",
      "Epoch 48/100\n",
      " - 0s - loss: 0.0010\n",
      "Epoch 49/100\n",
      " - 0s - loss: 0.0010\n",
      "Epoch 50/100\n",
      " - 0s - loss: 0.0011\n",
      "Epoch 51/100\n",
      " - 0s - loss: 0.0011\n",
      "Epoch 52/100\n",
      " - 0s - loss: 0.0010\n",
      "Epoch 53/100\n",
      " - 0s - loss: 9.9451e-04\n",
      "Epoch 54/100\n",
      " - 0s - loss: 9.7353e-04\n",
      "Epoch 55/100\n",
      " - 0s - loss: 0.0011\n",
      "Epoch 56/100\n",
      " - 0s - loss: 9.3868e-04\n",
      "Epoch 57/100\n",
      " - 0s - loss: 9.4642e-04\n",
      "Epoch 58/100\n",
      " - 0s - loss: 9.6641e-04\n",
      "Epoch 59/100\n",
      " - 0s - loss: 0.0010\n",
      "Epoch 60/100\n",
      " - 0s - loss: 9.2200e-04\n",
      "Epoch 61/100\n",
      " - 0s - loss: 9.9241e-04\n",
      "Epoch 62/100\n",
      " - 0s - loss: 9.5654e-04\n",
      "Epoch 63/100\n",
      " - 0s - loss: 8.9118e-04\n",
      "Epoch 64/100\n",
      " - 0s - loss: 9.2763e-04\n",
      "Epoch 65/100\n",
      " - 0s - loss: 9.4308e-04\n",
      "Epoch 66/100\n",
      " - 0s - loss: 8.9640e-04\n",
      "Epoch 67/100\n",
      " - 0s - loss: 0.0010\n",
      "Epoch 68/100\n",
      " - 0s - loss: 9.5872e-04\n",
      "Epoch 69/100\n",
      " - 0s - loss: 9.8074e-04\n",
      "Epoch 70/100\n",
      " - 0s - loss: 9.4455e-04\n",
      "Epoch 71/100\n",
      " - 0s - loss: 8.9486e-04\n",
      "Epoch 72/100\n",
      " - 0s - loss: 9.6083e-04\n",
      "Epoch 73/100\n",
      " - 0s - loss: 9.3188e-04\n",
      "Epoch 74/100\n",
      " - 0s - loss: 8.7970e-04\n",
      "Epoch 75/100\n",
      " - 0s - loss: 9.0043e-04\n",
      "Epoch 76/100\n",
      " - 0s - loss: 0.0010\n",
      "Epoch 77/100\n",
      " - 0s - loss: 9.0642e-04\n",
      "Epoch 78/100\n",
      " - 0s - loss: 8.5435e-04\n",
      "Epoch 79/100\n",
      " - 0s - loss: 8.5105e-04\n",
      "Epoch 80/100\n",
      " - 0s - loss: 8.9972e-04\n",
      "Epoch 81/100\n",
      " - 0s - loss: 8.7363e-04\n",
      "Epoch 82/100\n",
      " - 0s - loss: 8.8771e-04\n",
      "Epoch 83/100\n",
      " - 0s - loss: 8.8164e-04\n",
      "Epoch 84/100\n",
      " - 0s - loss: 9.7276e-04\n",
      "Epoch 85/100\n",
      " - 0s - loss: 8.6260e-04\n",
      "Epoch 86/100\n",
      " - 0s - loss: 8.5134e-04\n",
      "Epoch 87/100\n",
      " - 0s - loss: 8.3180e-04\n",
      "Epoch 88/100\n",
      " - 0s - loss: 8.5159e-04\n",
      "Epoch 89/100\n",
      " - 0s - loss: 8.2884e-04\n",
      "Epoch 90/100\n",
      " - 0s - loss: 8.4537e-04\n",
      "Epoch 91/100\n",
      " - 0s - loss: 8.5437e-04\n",
      "Epoch 92/100\n",
      " - 0s - loss: 8.5540e-04\n",
      "Epoch 93/100\n",
      " - 0s - loss: 8.6799e-04\n",
      "Epoch 94/100\n",
      " - 0s - loss: 8.6726e-04\n",
      "Epoch 95/100\n",
      " - 0s - loss: 8.2180e-04\n",
      "Epoch 96/100\n",
      " - 0s - loss: 9.1482e-04\n",
      "Epoch 97/100\n",
      " - 0s - loss: 8.9196e-04\n",
      "Epoch 98/100\n",
      " - 0s - loss: 8.4696e-04\n",
      "Epoch 99/100\n",
      " - 0s - loss: 8.9779e-04\n",
      "Epoch 100/100\n",
      " - 0s - loss: 8.8736e-04\n"
     ]
    },
    {
     "data": {
      "image/png": "[encoded data removed]",
      "text/plain": [
       "<Figure size 432x288 with 1 Axes>"
      ]
     },
     "metadata": {
      "needs_background": "light"
     },
     "output_type": "display_data"
    }
   ],
   "source": [
    "y_train, train_pred, y_test, test_pred = LSTM_model(spread_df)"
   ]
  },
  {
   "cell_type": "code",
   "execution_count": 32,
   "metadata": {},
   "outputs": [],
   "source": [
    "error_test = list(np.array([real - test for test,real in zip(test_pred, y_test)]).flatten())\n",
    "error_train = list(np.array([real - test for test,real in zip(train_pred, y_train)]).flatten())"
   ]
  },
  {
   "cell_type": "code",
   "execution_count": 68,
   "metadata": {},
   "outputs": [],
   "source": [
    "# threshold = np.std(error_test) # to be improved\n",
    "\n",
    "# computing moving threshold: 10-day moving standard deviation\n",
    "window = 10\n",
    "threshold = [100] * window\n",
    "for i in range(window, len(y_test)):\n",
    "    slice_spread = y_test[i - window: i]\n",
    "    threshold.append(np.std(slice_spread))\n"
   ]
  },
  {
   "cell_type": "code",
   "execution_count": 75,
   "metadata": {},
   "outputs": [
    {
     "data": {
      "text/plain": [
       "[1.830755308608992,\n",
       " 2.0853153238779045,\n",
       " 2.2076285919511025,\n",
       " 2.1436501580248635,\n",
       " 2.1250919980085614,\n",
       " 1.9881006010763174,\n",
       " 1.846488559401334,\n",
       " 1.583522971099569,\n",
       " 0.8387156848420118,\n",
       " 0.59216636175994]"
      ]
     },
     "execution_count": 75,
     "metadata": {},
     "output_type": "execute_result"
    }
   ],
   "source": [
    "threshold[-10:]"
   ]
  },
  {
   "cell_type": "code",
   "execution_count": 70,
   "metadata": {},
   "outputs": [],
   "source": [
    "## build up backtesting system for \n",
    "# get the return list\n",
    "close_list = list(y_test.flatten()) # y_test is true spread\n",
    "return_list = [close1/close2 -1 for close1,close2 in zip(close_list[1:],close_list[:-1])]\n",
    "signal = []\n",
    "for i in range(len(close_list)):\n",
    "    if error_test[i] < -1.5 * threshold[i]:\n",
    "        signal.append(1)\n",
    "    elif error_test[i] > 1.5 * threshold[i]:\n",
    "        signal.append(-1)\n",
    "    else:\n",
    "        signal.append(0)\n",
    "\n",
    "position_cursor = signal[0]\n",
    "position = [signal[0]]\n",
    "for i in range(1,len(signal)):\n",
    "    if signal[i] != 0:\n",
    "        if signal[i] != position[i-1]:\n",
    "            position_cursor = signal[i]\n",
    "    position.append(position_cursor)"
   ]
  },
  {
   "cell_type": "code",
   "execution_count": 71,
   "metadata": {},
   "outputs": [],
   "source": [
    "position = position[:-1]\n",
    "Capital_Line = [1]\n",
    "Trading_Cost = 0.0015\n",
    "\n",
    "for i in range(len(position)):\n",
    "    if position[i] == 1:\n",
    "        if i > 0 and position[i] != position[i-1]:\n",
    "            Capital_Line.append(Capital_Line[i] * (1 + 1 * return_list[i] - Trading_Cost))\n",
    "        else:\n",
    "            Capital_Line.append(Capital_Line[i] * (1 +  1 * return_list[i]))\n",
    "    else:\n",
    "        if i > 0 and position[i] != position[i-1]:\n",
    "            Capital_Line.append(Capital_Line[i] * (1 -1 * return_list[i] - Trading_Cost))\n",
    "        else:\n",
    "            Capital_Line.append(Capital_Line[i] * (1 -1 * return_list[i]))\n",
    "            \n",
    "train_size = int(len(date_all) * 0.67)\n",
    "test_size = len(date_all) - train_size\n",
    "\n",
    "date_train, date_test = date_all[0:train_size], date_all[train_size:len(date_all)]\n",
    "\n",
    "#  Strategy Analysis\n",
    "cul_return = Capital_Line[-1] - 1.0\n",
    "date_line = range(len(date_test))\n",
    "annual_rtn = pow(Capital_Line[-1], 250 / len(date_test)) - 1.0\n",
    "\n",
    "# Log return\n",
    "logR = [np.log(x + 1) for x in return_list]\n",
    "annualVolatility = np.std(logR)\n",
    "annualVolatility = annualVolatility / np.sqrt(1 / 250)\n",
    "sharpe_ratio = annual_rtn / annualVolatility\n"
   ]
  },
  {
   "cell_type": "code",
   "execution_count": 72,
   "metadata": {},
   "outputs": [
    {
     "data": {
      "text/plain": [
       "160"
      ]
     },
     "execution_count": 72,
     "metadata": {},
     "output_type": "execute_result"
    }
   ],
   "source": [
    "len(Capital_Line)"
   ]
  },
  {
   "cell_type": "code",
   "execution_count": null,
   "metadata": {},
   "outputs": [],
   "source": []
  },
  {
   "cell_type": "code",
   "execution_count": 73,
   "metadata": {},
   "outputs": [
    {
     "data": {
      "image/png": "[encoded data removed]",
      "text/plain": [
       "<Figure size 1152x360 with 1 Axes>"
      ]
     },
     "metadata": {
      "needs_background": "light"
     },
     "output_type": "display_data"
    }
   ],
   "source": [
    "#register_matplotlib_converters()\n",
    "fig, ax1 = plt.subplots(figsize=(16, 5))\n",
    "\n",
    "color = 'tab:blue'\n",
    "ax1.set_xlabel('Date (s)')\n",
    "ax1.set_ylabel('Capital Line', color=color)\n",
    "ax1.plot(date_test[11:], Capital_Line, color=color)\n",
    "ax1.tick_params(axis='y', labelcolor=color)\n",
    "plt.show()"
   ]
  },
  {
   "cell_type": "code",
   "execution_count": null,
   "metadata": {},
   "outputs": [],
   "source": []
  },
  {
   "cell_type": "code",
   "execution_count": null,
   "metadata": {},
   "outputs": [],
   "source": []
  }
 ],
 "metadata": {
  "kernelspec": {
   "display_name": "Python 3",
   "language": "python",
   "name": "python3"
  },
  "language_info": {
   "codemirror_mode": {
    "name": "ipython",
    "version": 3
   },
   "file_extension": ".py",
   "mimetype": "text/x-python",
   "name": "python",
   "nbconvert_exporter": "python",
   "pygments_lexer": "ipython3",
   "version": "3.7.2"
  },
  "varInspector": {
   "cols": {
    "lenName": 16,
    "lenType": 16,
    "lenVar": 40
   },
   "kernels_config": {
    "python": {
     "delete_cmd_postfix": "",
     "delete_cmd_prefix": "del ",
     "library": "var_list.py",
     "varRefreshCmd": "print(var_dic_list())"
    },
    "r": {
     "delete_cmd_postfix": ") ",
     "delete_cmd_prefix": "rm(",
     "library": "var_list.r",
     "varRefreshCmd": "cat(var_dic_list()) "
    }
   },
   "oldHeight": 476.9972891807556,
   "position": {
    "height": "40px",
    "left": "886.1412963867188px",
    "right": "7.771739482879639px",
    "top": "117.9891357421875px",
    "width": "358.2608642578125px"
   },
   "types_to_exclude": [
    "module",
    "function",
    "builtin_function_or_method",
    "instance",
    "_Feature"
   ],
   "varInspector_section_display": "none",
   "window_display": true
  }
 },
 "nbformat": 4,
 "nbformat_minor": 4
}
