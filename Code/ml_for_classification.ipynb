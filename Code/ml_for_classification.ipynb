{
 "cells": [
  {
   "cell_type": "code",
   "execution_count": 1,
   "metadata": {},
   "outputs": [],
   "source": [
    "import pandas as pd\n",
    "import numpy as np\n",
    "import matplotlib.pyplot as plt\n",
    "import seaborn as sns\n",
    "from statsmodels.tsa.tsatools import lagmat\n",
    "\n",
    "from sklearn.ensemble import RandomForestClassifier\n",
    "from sklearn.ensemble import GradientBoostingClassifier\n",
    "from sklearn.linear_model import LogisticRegression\n",
    "\n",
    "from sklearn.metrics import accuracy_score, auc, classification_report, confusion_matrix\n",
    "from sklearn.metrics import roc_curve\n",
    "from sklearn.model_selection import GridSearchCV\n",
    "\n",
    "data = pd.read_csv(\"SP500_constitutes_modified.csv\")\n",
    "data.Date = data.Date.apply(lambda x: pd.to_datetime(x))\n",
    "\n",
    "ticker1 = \"NDAQ-US\"\n",
    "ticker2 = \"ICE-US\"\n",
    "ticker3 = \"CME-US\"\n",
    "data = data.sort_values(\"Date\").reset_index().drop(\"index\", axis=1)\n",
    "data = data[[\"Date\", ticker1, ticker2, ticker3]]\n",
    "#data[\"spread\"] = data[ticker1] - data[ticker2]\n",
    "\n",
    "#data = data[[\"Date\", \"spread\"]]\n",
    "data.index = data.Date"
   ]
  },
  {
   "cell_type": "code",
   "execution_count": 2,
   "metadata": {},
   "outputs": [],
   "source": [
    "ticker = ticker3"
   ]
  },
  {
   "cell_type": "code",
   "execution_count": 3,
   "metadata": {},
   "outputs": [],
   "source": [
    "stock1 = data[[ticker]].rename(columns={ticker: \"price\"})"
   ]
  },
  {
   "cell_type": "code",
   "execution_count": 4,
   "metadata": {},
   "outputs": [],
   "source": [
    "def get_stock_ret(data):\n",
    "    res = data.copy()\n",
    "    res[\"ret\"] = data.diff(1)\n",
    "    res[\"ret_direction\"] = data.diff(1).diff(1)\n",
    "    return res\n",
    "\n",
    "def diff_creation(data):\n",
    "    df = data.copy()\n",
    "    df[\"delta_ret\"] = np.nan\n",
    "    #df.loc[1:, \"diff\"] = (df.iloc[1:, 1].as_matrix() - df.iloc[:len(df)-1, 1].as_matrix())\n",
    "    df.loc[1:, \"delta_ret\"] = df.ret.diff(1)\n",
    "    return df\n",
    "\n",
    "def lag_func(data, lag):\n",
    "    lag = lag\n",
    "    X = lagmat(data[\"delta_ret\"], lag)\n",
    "    lagged = data.copy()\n",
    "    for c in range(1,lag+1):\n",
    "        lagged[\"lag%d\" % c] = X[:, c-1]\n",
    "    return lagged\n",
    "\n",
    "def train_test(data_lag, lag):\n",
    "    xc = [\"lag%d\" % i for i in range(1,lag+1)]\n",
    "    split = 0.70\n",
    "    xt = data_lag[(lag+1):][xc]\n",
    "    yt = (data_lag[(lag+1):][\"delta_ret\"] >= 0).apply(lambda x: int(x))\n",
    "    date = data_lag[\"Date\"]\n",
    "    isplit = int(len(xt) * split)\n",
    "    x_train, y_train, x_test, y_test = xt[:isplit], yt[:isplit], xt[isplit:], yt[isplit:]\n",
    "    date_train, date_test = date[:isplit], date[isplit:]\n",
    "    return x_train, y_train, x_test, y_test, xt, yt, date_train, date_test"
   ]
  },
  {
   "cell_type": "code",
   "execution_count": 5,
   "metadata": {},
   "outputs": [],
   "source": [
    "temp = get_stock_ret(stock1)\n",
    "temp = diff_creation(temp)\n",
    "temp.ret_direction = (temp.ret_direction > 0).apply(lambda x: int(x))"
   ]
  },
  {
   "cell_type": "code",
   "execution_count": 6,
   "metadata": {},
   "outputs": [],
   "source": [
    "temp = lag_func(temp, 7).reset_index()\n",
    "temp.dropna(inplace=True)"
   ]
  },
  {
   "cell_type": "code",
   "execution_count": 7,
   "metadata": {},
   "outputs": [],
   "source": [
    "x_train, y_train, x_test, y_test, xt, yt, date_train, date_test = train_test(temp, 7)"
   ]
  },
  {
   "cell_type": "markdown",
   "metadata": {},
   "source": [
    "### Random Forest Classifier"
   ]
  },
  {
   "cell_type": "code",
   "execution_count": 8,
   "metadata": {},
   "outputs": [
    {
     "name": "stdout",
     "output_type": "stream",
     "text": [
      "RandomForestClassifier(bootstrap=True, class_weight=None, criterion='gini',\n",
      "                       max_depth=3, max_features='auto', max_leaf_nodes=None,\n",
      "                       min_impurity_decrease=0.0, min_impurity_split=None,\n",
      "                       min_samples_leaf=1, min_samples_split=2,\n",
      "                       min_weight_fraction_leaf=0.0, n_estimators=100,\n",
      "                       n_jobs=None, oob_score=False, random_state=None,\n",
      "                       verbose=0, warm_start=False)\n",
      "score on train: 0.7621776504297995\n",
      "score on test: 0.6133333333333333\n"
     ]
    },
    {
     "name": "stderr",
     "output_type": "stream",
     "text": [
      "/Users/clarence/anaconda3/lib/python3.7/site-packages/sklearn/model_selection/_search.py:813: DeprecationWarning: The default of the `iid` parameter will change from True to False in version 0.22 and will be removed in 0.24. This will change numeric results when test-set sizes are unequal.\n",
      "  DeprecationWarning)\n"
     ]
    }
   ],
   "source": [
    "param_grid = {'n_estimators': [100, 200, 300],\n",
    "              'criterion': ['gini', 'entropy'],\n",
    "              'max_depth': [2, 3, 4]}\n",
    "rf = GridSearchCV(RandomForestClassifier(), param_grid, cv=10)\n",
    "\n",
    "#rf = RandomForestClassifier(n_estimators=200, max_depth=2)\n",
    "rf.fit(x_train, y_train)\n",
    "print(rf.best_estimator_)\n",
    "rf = rf.best_estimator_\n",
    "print(\"score on train:\", rf.score(x_train, y_train))\n",
    "print(\"score on test:\", rf.score(x_test, y_test))"
   ]
  },
  {
   "cell_type": "code",
   "execution_count": 9,
   "metadata": {},
   "outputs": [
    {
     "name": "stdout",
     "output_type": "stream",
     "text": [
      "accuracy score:  0.6133333333333333\n",
      "              precision    recall  f1-score   support\n",
      "\n",
      "           0       0.59      0.70      0.64        73\n",
      "           1       0.65      0.53      0.59        77\n",
      "\n",
      "    accuracy                           0.61       150\n",
      "   macro avg       0.62      0.62      0.61       150\n",
      "weighted avg       0.62      0.61      0.61       150\n",
      "\n"
     ]
    },
    {
     "data": {
      "image/png": "[encoded data removed]",
      "text/plain": [
       "<Figure size 432x288 with 2 Axes>"
      ]
     },
     "metadata": {
      "needs_background": "light"
     },
     "output_type": "display_data"
    },
    {
     "data": {
      "text/plain": [
       "<Figure size 432x288 with 0 Axes>"
      ]
     },
     "metadata": {},
     "output_type": "display_data"
    },
    {
     "data": {
      "image/png": "[encoded data removed]",
      "text/plain": [
       "<Figure size 432x288 with 1 Axes>"
      ]
     },
     "metadata": {
      "needs_background": "light"
     },
     "output_type": "display_data"
    }
   ],
   "source": [
    "model = rf\n",
    "y_pred = model.predict(x_test)\n",
    "\n",
    "print(\"accuracy score: \", accuracy_score(y_test, y_pred))\n",
    "print(classification_report(y_test, y_pred))\n",
    "\n",
    "plt.figure()\n",
    "sns.heatmap(confusion_matrix(y_test, y_pred), cmap=\"YlGnBu\",fmt=\".0f\", annot=True)\n",
    "plt.xlabel(\"actual value\")\n",
    "plt.ylabel(\"predicted value\")\n",
    "plt.title(\"confusion matrix for RF\")\n",
    "plt.savefig(\"./plots/RF_cmatrix\")\n",
    "\n",
    "plt.figure()\n",
    "pd.DataFrame({'Feature Importance':model.feature_importances_},\n",
    "            index=x_test.columns).plot(kind='barh')\n",
    "plt.title(\"feature importance for RF\")\n",
    "plt.savefig(\"./plots/RF_f_importance\")"
   ]
  },
  {
   "cell_type": "markdown",
   "metadata": {},
   "source": [
    "### Gradient Boosting Classifier"
   ]
  },
  {
   "cell_type": "code",
   "execution_count": 10,
   "metadata": {},
   "outputs": [
    {
     "name": "stdout",
     "output_type": "stream",
     "text": [
      "GradientBoostingClassifier(criterion='friedman_mse', init=None,\n",
      "                           learning_rate=0.1, loss='deviance', max_depth=3,\n",
      "                           max_features=None, max_leaf_nodes=None,\n",
      "                           min_impurity_decrease=0.0, min_impurity_split=None,\n",
      "                           min_samples_leaf=1, min_samples_split=2,\n",
      "                           min_weight_fraction_leaf=0.0, n_estimators=150,\n",
      "                           n_iter_no_change=None, presort='auto',\n",
      "                           random_state=None, subsample=0.6, tol=0.0001,\n",
      "                           validation_fraction=0.1, verbose=0,\n",
      "                           warm_start=False)\n",
      "score on train: 0.997134670487106\n",
      "score on test: 0.6\n"
     ]
    },
    {
     "name": "stderr",
     "output_type": "stream",
     "text": [
      "/Users/clarence/anaconda3/lib/python3.7/site-packages/sklearn/model_selection/_search.py:813: DeprecationWarning: The default of the `iid` parameter will change from True to False in version 0.22 and will be removed in 0.24. This will change numeric results when test-set sizes are unequal.\n",
      "  DeprecationWarning)\n"
     ]
    }
   ],
   "source": [
    "param_grid = {'n_estimators': [50, 150, 300],\n",
    "              'subsample': [0.5, 0.6, 0.7],\n",
    "              'max_depth': [2, 3, 4]}\n",
    "gbc = GridSearchCV(GradientBoostingClassifier(), param_grid, cv=10)\n",
    "#gbc = GradientBoostingClassifier(n_estimators=100, subsample=0.6, min_samples_leaf=2)\n",
    "gbc.fit(x_train, y_train)\n",
    "gbc = gbc.best_estimator_\n",
    "print(gbc)\n",
    "print(\"score on train:\", gbc.score(x_train, y_train))\n",
    "print(\"score on test:\", gbc.score(x_test, y_test))"
   ]
  },
  {
   "cell_type": "code",
   "execution_count": 11,
   "metadata": {},
   "outputs": [
    {
     "name": "stdout",
     "output_type": "stream",
     "text": [
      "              precision    recall  f1-score   support\n",
      "\n",
      "           0       0.58      0.67      0.62        73\n",
      "           1       0.63      0.53      0.58        77\n",
      "\n",
      "    accuracy                           0.60       150\n",
      "   macro avg       0.60      0.60      0.60       150\n",
      "weighted avg       0.60      0.60      0.60       150\n",
      "\n"
     ]
    },
    {
     "data": {
      "image/png": "[encoded data removed]",
      "text/plain": [
       "<Figure size 432x288 with 2 Axes>"
      ]
     },
     "metadata": {
      "needs_background": "light"
     },
     "output_type": "display_data"
    },
    {
     "data": {
      "text/plain": [
       "<Figure size 432x288 with 0 Axes>"
      ]
     },
     "metadata": {},
     "output_type": "display_data"
    },
    {
     "data": {
      "image/png": "[encoded data removed]",
      "text/plain": [
       "<Figure size 432x288 with 1 Axes>"
      ]
     },
     "metadata": {
      "needs_background": "light"
     },
     "output_type": "display_data"
    }
   ],
   "source": [
    "model = gbc\n",
    "y_pred = model.predict(x_test)\n",
    "print(classification_report(y_test, y_pred))\n",
    "\n",
    "plt.figure()\n",
    "sns.heatmap(confusion_matrix(y_test, y_pred), cmap=\"YlGnBu\",fmt=\".0f\", annot=True)\n",
    "plt.xlabel(\"actual value\")\n",
    "plt.ylabel(\"predicted value\")\n",
    "plt.title(\"confusion matrix for GBC\")\n",
    "plt.savefig(\"./plots/GBM_cmatrix\")\n",
    "\n",
    "plt.figure()\n",
    "pd.DataFrame({'Feature Importance':model.feature_importances_},\n",
    "            index=x_test.columns).plot(kind='barh')\n",
    "plt.title(\"feature importance for GBC\")\n",
    "plt.savefig(\"./plots/GBM_f_importance\")"
   ]
  },
  {
   "cell_type": "markdown",
   "metadata": {},
   "source": [
    "### Logistic Regression"
   ]
  },
  {
   "cell_type": "code",
   "execution_count": 12,
   "metadata": {},
   "outputs": [
    {
     "name": "stdout",
     "output_type": "stream",
     "text": [
      "LogisticRegression(C=0.7, class_weight=None, dual=False, fit_intercept=True,\n",
      "                   intercept_scaling=1, l1_ratio=None, max_iter=100,\n",
      "                   multi_class='warn', n_jobs=None, penalty='l2',\n",
      "                   random_state=None, solver='lbfgs', tol=0.0001, verbose=0,\n",
      "                   warm_start=False)\n",
      "score on train: 0.7134670487106017\n",
      "score on test: 0.7\n"
     ]
    },
    {
     "name": "stderr",
     "output_type": "stream",
     "text": [
      "/Users/clarence/anaconda3/lib/python3.7/site-packages/sklearn/model_selection/_search.py:813: DeprecationWarning: The default of the `iid` parameter will change from True to False in version 0.22 and will be removed in 0.24. This will change numeric results when test-set sizes are unequal.\n",
      "  DeprecationWarning)\n"
     ]
    }
   ],
   "source": [
    "param_grid = {\"solver\": [\"lbfgs\", \"liblinear\"],\n",
    "              \"fit_intercept\": [True, False],\n",
    "              \"C\": [0.7, 0.8, 0.9, 1]}\n",
    "lg = GridSearchCV(LogisticRegression(), param_grid, cv=10)\n",
    "lg.fit(x_train, y_train)\n",
    "lg = lg.best_estimator_\n",
    "print(lg)\n",
    "print(\"score on train:\", lg.score(x_train, y_train))\n",
    "print(\"score on test:\", lg.score(x_test, y_test))"
   ]
  },
  {
   "cell_type": "code",
   "execution_count": 13,
   "metadata": {},
   "outputs": [
    {
     "name": "stdout",
     "output_type": "stream",
     "text": [
      "              precision    recall  f1-score   support\n",
      "\n",
      "           0       0.67      0.77      0.71        73\n",
      "           1       0.74      0.64      0.69        77\n",
      "\n",
      "    accuracy                           0.70       150\n",
      "   macro avg       0.70      0.70      0.70       150\n",
      "weighted avg       0.71      0.70      0.70       150\n",
      "\n"
     ]
    },
    {
     "data": {
      "image/png": "[encoded data removed]",
      "text/plain": [
       "<Figure size 432x288 with 2 Axes>"
      ]
     },
     "metadata": {
      "needs_background": "light"
     },
     "output_type": "display_data"
    }
   ],
   "source": [
    "model = lg\n",
    "y_pred = model.predict(x_test)\n",
    "print(classification_report(y_test, y_pred))\n",
    "\n",
    "plt.figure()\n",
    "sns.heatmap(confusion_matrix(y_test, y_pred), cmap=\"YlGnBu\",fmt=\".0f\", annot=True)\n",
    "plt.xlabel(\"actual value\")\n",
    "plt.ylabel(\"predicted value\")\n",
    "plt.title(\"confusion matrix for LR\")\n",
    "plt.savefig(\"./plots/LR_cmatrix\")\n",
    "\n",
    "# plt.figure()\n",
    "# pd.DataFrame({'Feature Importance':model.feature_importances_},\n",
    "#             index=x_test.columns).plot(kind='barh')\n",
    "# plt.title(\"feature importance for LR\")\n",
    "# plt.savefig(\"./plots/LR_f_importance\")"
   ]
  },
  {
   "cell_type": "code",
   "execution_count": null,
   "metadata": {},
   "outputs": [],
   "source": []
  },
  {
   "cell_type": "code",
   "execution_count": null,
   "metadata": {},
   "outputs": [],
   "source": []
  }
 ],
 "metadata": {
  "kernelspec": {
   "display_name": "Python 3",
   "language": "python",
   "name": "python3"
  },
  "language_info": {
   "codemirror_mode": {
    "name": "ipython",
    "version": 3
   },
   "file_extension": ".py",
   "mimetype": "text/x-python",
   "name": "python",
   "nbconvert_exporter": "python",
   "pygments_lexer": "ipython3",
   "version": "3.7.3"
  }
 },
 "nbformat": 4,
 "nbformat_minor": 4
}
