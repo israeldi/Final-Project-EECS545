{
 "cells": [
  {
   "cell_type": "markdown",
   "metadata": {},
   "source": [
    "Get data"
   ]
  },
  {
   "cell_type": "code",
   "execution_count": 1,
   "metadata": {},
   "outputs": [
    {
     "name": "stderr",
     "output_type": "stream",
     "text": [
      "Using TensorFlow backend.\n"
     ]
    }
   ],
   "source": [
    "# Make sure that you have all these libaries available to run the code successfully\n",
    "import quandl\n",
    "#from pandas_datareader import data\n",
    "import matplotlib.pyplot as plt\n",
    "import pandas as pd\n",
    "import datetime as dt\n",
    "import urllib.request, json\n",
    "import os\n",
    "import numpy as np\n",
    "from sklearn.preprocessing import MinMaxScaler\n",
    "\n",
    "from keras.models import Sequential\n",
    "from keras.layers import Dense\n",
    "from keras.layers import LSTM\n",
    "\n",
    "from sklearn.metrics import mean_squared_error\n",
    "\n",
    "import pytz"
   ]
  },
  {
   "cell_type": "code",
   "execution_count": 14,
   "metadata": {},
   "outputs": [],
   "source": [
    "# Here we only get the data in S&P 500\n",
    "universe_df = pd.read_csv(\"sp500.csv\")\n",
    "universe = universe_df['Symbol'].tolist()\n",
    "end_date = '2018-03-27'\n",
    "begin_date = pd.Timestamp(end_date) - pd.DateOffset(months=24)\n",
    "def get_stock_data(ticker):\n",
    "\n",
    "    data_source = 'Yahoo Finance' # alphavantage or kaggle\n",
    "    if data_source == 'Yahoo Finance':\n",
    "        df = pd.read_csv(\"SP500_constitutes_modified.csv\")\n",
    "        df = df[[\"Date\", ticker]]\n",
    "        \n",
    "    elif data_source == 'quantdl':\n",
    "        # ====================== Loading Data from Quandl ==================================\n",
    "\n",
    "        api_key = 'tv6mxJKZxRcTysJaHKc2'\n",
    "\n",
    "        # Save data to this file\n",
    "        file_to_save = 'stock_market_data-%s.csv'%ticker\n",
    "        quandl.ApiConfig.api_key = api_key\n",
    "         # If you haven't already saved data,\n",
    "        # Go ahead and grab the data from the url\n",
    "        # And store date, low, high, volume, close, open values to a Pandas DataFrame\n",
    "        if not os.path.exists(file_to_save):\n",
    "            df = quandl.get_table('WIKI/PRICES', qopts = { 'columns': ['date', 'close'] }, ticker = [ticker], date = { 'gte': '2016-03-27', 'lte': '2018-03-27' })        \n",
    "            df.to_csv(file_to_save)\n",
    "            \n",
    "            # If the data is already there, just load it from the CSV\n",
    "        else:\n",
    "            print('File already exists. Loading data from CSV')\n",
    "            df = pd.read_csv(file_to_save)\n",
    "    else:\n",
    "    \n",
    "        # ====================== Loading Data from Kaggle ==================================\n",
    "        # You will be using HP's data. Feel free to experiment with other data.\n",
    "        # But while doing so, be careful to have a large enough dataset and also pay attention to the data normalization\n",
    "        df = pd.read_csv(os.path.join('Stocks','hpq.us.txt'),delimiter=',',usecols=['Date','Open','High','Low','Close'])\n",
    "        print('Loaded data from the Kaggle repository')\n",
    "    \n",
    "    return df"
   ]
  },
  {
   "cell_type": "code",
   "execution_count": 15,
   "metadata": {},
   "outputs": [],
   "source": [
    "testing_pair = ['NDAQ-US', 'ICE-US']\n",
    "df_1 = get_stock_data('NDAQ-US')\n",
    "df_2 = get_stock_data('ICE-US')"
   ]
  },
  {
   "cell_type": "code",
   "execution_count": 12,
   "metadata": {},
   "outputs": [
    {
     "ename": "AttributeError",
     "evalue": "'DataFrame' object has no attribute 'Date'",
     "output_type": "error",
     "traceback": [
      "\u001b[0;31m---------------------------------------------------------------------------\u001b[0m",
      "\u001b[0;31mAttributeError\u001b[0m                            Traceback (most recent call last)",
      "\u001b[0;32m<ipython-input-12-65390d49e550>\u001b[0m in \u001b[0;36m<module>\u001b[0;34m\u001b[0m\n\u001b[1;32m      1\u001b[0m \u001b[0mclose1\u001b[0m \u001b[0;34m=\u001b[0m \u001b[0mdf_1\u001b[0m\u001b[0;34m[\u001b[0m\u001b[0mtesting_pair\u001b[0m\u001b[0;34m[\u001b[0m\u001b[0;36m0\u001b[0m\u001b[0;34m]\u001b[0m\u001b[0;34m]\u001b[0m\u001b[0;34m.\u001b[0m\u001b[0mtolist\u001b[0m\u001b[0;34m(\u001b[0m\u001b[0;34m)\u001b[0m\u001b[0;34m\u001b[0m\u001b[0;34m\u001b[0m\u001b[0m\n\u001b[1;32m      2\u001b[0m \u001b[0mclose2\u001b[0m \u001b[0;34m=\u001b[0m \u001b[0mdf_2\u001b[0m\u001b[0;34m[\u001b[0m\u001b[0mtesting_pair\u001b[0m\u001b[0;34m[\u001b[0m\u001b[0;36m1\u001b[0m\u001b[0;34m]\u001b[0m\u001b[0;34m]\u001b[0m\u001b[0;34m.\u001b[0m\u001b[0mtolist\u001b[0m\u001b[0;34m(\u001b[0m\u001b[0;34m)\u001b[0m\u001b[0;34m\u001b[0m\u001b[0;34m\u001b[0m\u001b[0m\n\u001b[0;32m----> 3\u001b[0;31m \u001b[0mdate_all\u001b[0m \u001b[0;34m=\u001b[0m \u001b[0mdf_1\u001b[0m\u001b[0;34m.\u001b[0m\u001b[0mDate\u001b[0m\u001b[0;34m.\u001b[0m\u001b[0mtolist\u001b[0m\u001b[0;34m(\u001b[0m\u001b[0;34m)\u001b[0m\u001b[0;34m\u001b[0m\u001b[0;34m\u001b[0m\u001b[0m\n\u001b[0m\u001b[1;32m      4\u001b[0m \u001b[0mspread_close\u001b[0m \u001b[0;34m=\u001b[0m \u001b[0;34m[\u001b[0m\u001b[0ms1\u001b[0m \u001b[0;34m-\u001b[0m \u001b[0ms2\u001b[0m \u001b[0;32mfor\u001b[0m \u001b[0ms1\u001b[0m\u001b[0;34m,\u001b[0m\u001b[0ms2\u001b[0m \u001b[0;32min\u001b[0m \u001b[0mzip\u001b[0m\u001b[0;34m(\u001b[0m\u001b[0mclose1\u001b[0m\u001b[0;34m,\u001b[0m\u001b[0mclose2\u001b[0m\u001b[0;34m)\u001b[0m\u001b[0;34m]\u001b[0m\u001b[0;34m\u001b[0m\u001b[0;34m\u001b[0m\u001b[0m\n\u001b[1;32m      5\u001b[0m \u001b[0mspread_df\u001b[0m \u001b[0;34m=\u001b[0m \u001b[0mpd\u001b[0m\u001b[0;34m.\u001b[0m\u001b[0mDataFrame\u001b[0m\u001b[0;34m(\u001b[0m\u001b[0mspread_close\u001b[0m\u001b[0;34m,\u001b[0m \u001b[0mindex\u001b[0m \u001b[0;34m=\u001b[0m \u001b[0mdate_all\u001b[0m\u001b[0;34m,\u001b[0m \u001b[0mcolumns\u001b[0m \u001b[0;34m=\u001b[0m \u001b[0;34m[\u001b[0m\u001b[0;34m'close'\u001b[0m\u001b[0;34m]\u001b[0m\u001b[0;34m)\u001b[0m\u001b[0;34m\u001b[0m\u001b[0;34m\u001b[0m\u001b[0m\n",
      "\u001b[0;32m~/anaconda3/envs/myvenv/lib/python3.7/site-packages/pandas/core/generic.py\u001b[0m in \u001b[0;36m__getattr__\u001b[0;34m(self, name)\u001b[0m\n\u001b[1;32m   5177\u001b[0m             \u001b[0;32mif\u001b[0m \u001b[0mself\u001b[0m\u001b[0;34m.\u001b[0m\u001b[0m_info_axis\u001b[0m\u001b[0;34m.\u001b[0m\u001b[0m_can_hold_identifiers_and_holds_name\u001b[0m\u001b[0;34m(\u001b[0m\u001b[0mname\u001b[0m\u001b[0;34m)\u001b[0m\u001b[0;34m:\u001b[0m\u001b[0;34m\u001b[0m\u001b[0;34m\u001b[0m\u001b[0m\n\u001b[1;32m   5178\u001b[0m                 \u001b[0;32mreturn\u001b[0m \u001b[0mself\u001b[0m\u001b[0;34m[\u001b[0m\u001b[0mname\u001b[0m\u001b[0;34m]\u001b[0m\u001b[0;34m\u001b[0m\u001b[0;34m\u001b[0m\u001b[0m\n\u001b[0;32m-> 5179\u001b[0;31m             \u001b[0;32mreturn\u001b[0m \u001b[0mobject\u001b[0m\u001b[0;34m.\u001b[0m\u001b[0m__getattribute__\u001b[0m\u001b[0;34m(\u001b[0m\u001b[0mself\u001b[0m\u001b[0;34m,\u001b[0m \u001b[0mname\u001b[0m\u001b[0;34m)\u001b[0m\u001b[0;34m\u001b[0m\u001b[0;34m\u001b[0m\u001b[0m\n\u001b[0m\u001b[1;32m   5180\u001b[0m \u001b[0;34m\u001b[0m\u001b[0m\n\u001b[1;32m   5181\u001b[0m     \u001b[0;32mdef\u001b[0m \u001b[0m__setattr__\u001b[0m\u001b[0;34m(\u001b[0m\u001b[0mself\u001b[0m\u001b[0;34m,\u001b[0m \u001b[0mname\u001b[0m\u001b[0;34m,\u001b[0m \u001b[0mvalue\u001b[0m\u001b[0;34m)\u001b[0m\u001b[0;34m:\u001b[0m\u001b[0;34m\u001b[0m\u001b[0;34m\u001b[0m\u001b[0m\n",
      "\u001b[0;31mAttributeError\u001b[0m: 'DataFrame' object has no attribute 'Date'"
     ]
    }
   ],
   "source": [
    "close1 = df_1[testing_pair[0]].tolist()\n",
    "close2 = df_2[testing_pair[1]].tolist()\n",
    "date_all = df_1.Date.tolist()\n",
    "spread_close = [s1 - s2 for s1,s2 in zip(close1,close2)]\n",
    "spread_df = pd.DataFrame(spread_close, index = date_all, columns = ['close']) \n",
    "spread_df"
   ]
  },
  {
   "cell_type": "code",
   "execution_count": 80,
   "metadata": {},
   "outputs": [],
   "source": [
    "def create_dataset(dataset, look_back=1):\n",
    "\n",
    "    dataX, dataY = [], []\n",
    "    for i in range(len(dataset)-look_back-1):\n",
    "        dataX.append(dataset[i:(i+look_back),0])\n",
    "        dataY.append(dataset[i+look_back,0])\n",
    "\n",
    "    return np.array(dataX), np.array(dataY)\n",
    "\n",
    "def LSTM_model(data):\n",
    "\n",
    "    #load data\n",
    "    dataset = np.array(data['close'].values).reshape(-1,1)\n",
    "    dataset = dataset.astype('float32')\n",
    "\n",
    "    scaler = MinMaxScaler(feature_range=(0,1))\n",
    "    dataset = scaler.fit_transform(dataset)\n",
    "\n",
    "    # split into train and test sets\n",
    "    train_size = int(len(dataset) * 0.67)\n",
    "    test_size = len(dataset) - train_size\n",
    "    train, test = dataset[0:train_size,:], dataset[train_size:len(dataset),:]\n",
    "    # reshape for look_back\n",
    "    look_back = 10\n",
    "    X_train, y_train = create_dataset(train, look_back)\n",
    "    X_test, y_test = create_dataset(test, look_back)\n",
    "\n",
    "    # reshape for LSTM [samples, time steps, features]\n",
    "    X_train = np.reshape(X_train, (X_train.shape[0], X_train.shape[1], 1))\n",
    "    X_test = np.reshape(X_test, (X_test.shape[0], X_test.shape[1], 1))\n",
    "\n",
    "    # LSTM\n",
    "    model = Sequential()\n",
    "    model.add(LSTM(32, input_dim=1)) #look_back))\n",
    "    model.add(Dense(1))\n",
    "\n",
    "    model.compile(loss='mean_squared_error', optimizer='adam')\n",
    "    model.fit(X_train, y_train, nb_epoch=20, batch_size=5, verbose=2)\n",
    "\n",
    "    train_pred = model.predict(X_train)\n",
    "    test_pred = model.predict(X_test) \n",
    "    \n",
    "    # scale back \n",
    "    train_pred = scaler.inverse_transform(train_pred)\n",
    "    y_train = scaler.inverse_transform(y_train.reshape(-1, 1))\n",
    "    test_pred = scaler.inverse_transform(test_pred)\n",
    "    y_test = scaler.inverse_transform(y_test.reshape(-1, 1))\n",
    "    return y_train, train_pred, y_test, test_pred\n",
    "    # shift predictions for plotting\n",
    "    train_pred_plot = np.empty_like(dataset)\n",
    "    train_pred_plot[:,:] = np.nan\n",
    "    train_pred_plot[look_back:len(train_pred)+look_back,:] = train_pred\n",
    "\n",
    "    test_pred_plot = np.empty_like(dataset)\n",
    "    test_pred_plot[:,:] = np.nan\n",
    "    test_pred_plot[len(train_pred)+(look_back*2)+1:len(dataset)-1,:] = test_pred\n",
    "\n",
    "    f = plt.figure()\n",
    "    plt.plot(scaler.inverse_transform(dataset), color='b', lw=2.0, label='S&P 500')\n",
    "    plt.plot(train_pred_plot, color='g', lw=2.0, label='LSTM train')\n",
    "    plt.plot(test_pred_plot, color='r', lw=2.0, label='LSTM test')\n",
    "    plt.legend(loc=3)\n",
    "    plt.grid(True)\n",
    "    plt.show()"
   ]
  },
  {
   "cell_type": "code",
   "execution_count": 76,
   "metadata": {},
   "outputs": [
    {
     "name": "stdout",
     "output_type": "stream",
     "text": [
      "337\n",
      "167\n"
     ]
    },
    {
     "name": "stderr",
     "output_type": "stream",
     "text": [
      "/Users/richardwang/anaconda3/envs/myvenv/lib/python3.7/site-packages/ipykernel_launcher.py:36: UserWarning: The `input_dim` and `input_length` arguments in recurrent layers are deprecated. Use `input_shape` instead.\n",
      "/Users/richardwang/anaconda3/envs/myvenv/lib/python3.7/site-packages/ipykernel_launcher.py:36: UserWarning: Update your `LSTM` call to the Keras 2 API: `LSTM(32, input_shape=(None, 1))`\n",
      "/Users/richardwang/anaconda3/envs/myvenv/lib/python3.7/site-packages/ipykernel_launcher.py:40: UserWarning: The `nb_epoch` argument in `fit` has been renamed `epochs`.\n"
     ]
    },
    {
     "name": "stdout",
     "output_type": "stream",
     "text": [
      "Epoch 1/20\n",
      " - 6s - loss: 0.0475\n",
      "Epoch 2/20\n",
      " - 1s - loss: 0.0056\n",
      "Epoch 3/20\n",
      " - 1s - loss: 0.0044\n",
      "Epoch 4/20\n",
      " - 1s - loss: 0.0042\n",
      "Epoch 5/20\n",
      " - 1s - loss: 0.0042\n",
      "Epoch 6/20\n",
      " - 1s - loss: 0.0040\n",
      "Epoch 7/20\n",
      " - 1s - loss: 0.0038\n",
      "Epoch 8/20\n",
      " - 1s - loss: 0.0037\n",
      "Epoch 9/20\n",
      " - 1s - loss: 0.0034\n",
      "Epoch 10/20\n",
      " - 1s - loss: 0.0035\n",
      "Epoch 11/20\n",
      " - 1s - loss: 0.0033\n",
      "Epoch 12/20\n",
      " - 1s - loss: 0.0031\n",
      "Epoch 13/20\n",
      " - 1s - loss: 0.0031\n",
      "Epoch 14/20\n",
      " - 1s - loss: 0.0031\n",
      "Epoch 15/20\n",
      " - 1s - loss: 0.0028\n",
      "Epoch 16/20\n",
      " - 1s - loss: 0.0026\n",
      "Epoch 17/20\n",
      " - 1s - loss: 0.0029\n",
      "Epoch 18/20\n",
      " - 1s - loss: 0.0029\n",
      "Epoch 19/20\n",
      " - 1s - loss: 0.0023\n",
      "Epoch 20/20\n",
      " - 1s - loss: 0.0025\n"
     ]
    }
   ],
   "source": [
    "y_train, train_pred, y_test, test_pred = LSTM_model(spread_df)"
   ]
  },
  {
   "cell_type": "code",
   "execution_count": 58,
   "metadata": {},
   "outputs": [],
   "source": [
    "error_test = list(np.array([real - test for test,real in zip(test_pred, y_test)]).flatten())\n",
    "error_train = list(np.array([real - test for test,real in zip(train_pred, y_train)]).flatten())\n",
    "threshold = np.std(error_test) # to be improved"
   ]
  },
  {
   "cell_type": "code",
   "execution_count": 59,
   "metadata": {},
   "outputs": [],
   "source": [
    "## build up backtesting system for \n",
    "# get the return list\n",
    "close_list = list(y_test.flatten())\n",
    "return_list = [close1/close2 -1 for close1,close2 in zip(close_list[1:],close_list[:-1])]\n",
    "signal = []\n",
    "for i in range(len(close_list)):\n",
    "    if error_test[i] > 1.5 * threshold:\n",
    "        signal.append(1)\n",
    "    elif error_test[i] < -1.5 * threshold:\n",
    "        signal.append(-1)\n",
    "    else:\n",
    "        signal.append(0)\n",
    "\n",
    "position_cursor = signal[0]\n",
    "position = [signal[0]]\n",
    "for i in range(1,len(signal)):\n",
    "    if signal[i] != 0:\n",
    "        if signal[i] != position[i-1]:\n",
    "            position_cursor = signal[i]\n",
    "    position.append(position_cursor)"
   ]
  },
  {
   "cell_type": "code",
   "execution_count": 79,
   "metadata": {},
   "outputs": [],
   "source": [
    "position = position[:-1]\n",
    "Capital_Line = [1]\n",
    "Trading_Cost = 0.0015\n",
    "\n",
    "for i in range(len(position)):\n",
    "    if position[i] == 1:\n",
    "        if i > 0 and position[i] != position[i-1]:\n",
    "            Capital_Line.append(Capital_Line[i] * (1 + -1 * return_list[i] - Trading_Cost))\n",
    "        else:\n",
    "            Capital_Line.append(Capital_Line[i] * (1 +  -1 * return_list[i]))\n",
    "    else:\n",
    "        if i > 0 and position[i] != position[i-1]:\n",
    "            Capital_Line.append(Capital_Line[i] * (1 + return_list[i] - Trading_Cost))\n",
    "        else:\n",
    "            Capital_Line.append(Capital_Line[i] * (1 +  return_list[i]))\n",
    "train_size = int(len(date_all) * 0.67)\n",
    "test_size = len(date_all) - train_size\n",
    "\n",
    "date_train, date_test = date_all[0:train_size], date_all[train_size:len(date_all)]\n",
    "\n",
    "#  Strategy Analysis\n",
    "cul_return = Capital_Line[-1] - 1.0\n",
    "date_line = range(len(date_test))\n",
    "annual_rtn = pow(Capital_Line[-1], 250 / len(date_test)) - 1.0\n",
    "\n",
    "# Log return\n",
    "logR = [np.log(x + 1) for x in return_list]\n",
    "annualVolatility = np.std(logR)\n",
    "annualVolatility = annualVolatility / np.sqrt(1 / 250)\n",
    "sharpe_ratio = annual_rtn / annualVolatility\n"
   ]
  },
  {
   "cell_type": "code",
   "execution_count": 78,
   "metadata": {},
   "outputs": [
    {
     "data": {
      "image/png": "[encoded data removed]",
      "text/plain": [
       "<Figure size 1152x360 with 1 Axes>"
      ]
     },
     "metadata": {
      "needs_background": "light"
     },
     "output_type": "display_data"
    }
   ],
   "source": [
    "#register_matplotlib_converters()\n",
    "fig, ax1 = plt.subplots(figsize=(16, 5))\n",
    "\n",
    "color = 'tab:blue'\n",
    "ax1.set_xlabel('Date (s)')\n",
    "ax1.set_ylabel('Capital Line', color=color)\n",
    "ax1.plot(date_test[13:], Capital_Line, color=color)\n",
    "ax1.tick_params(axis='y', labelcolor=color)\n",
    "plt.show()"
   ]
  },
  {
   "cell_type": "code",
   "execution_count": null,
   "metadata": {},
   "outputs": [],
   "source": []
  },
  {
   "cell_type": "code",
   "execution_count": null,
   "metadata": {},
   "outputs": [],
   "source": []
  }
 ],
 "metadata": {
  "kernelspec": {
   "display_name": "Python 3",
   "language": "python",
   "name": "python3"
  },
  "language_info": {
   "codemirror_mode": {
    "name": "ipython",
    "version": 3
   },
   "file_extension": ".py",
   "mimetype": "text/x-python",
   "name": "python",
   "nbconvert_exporter": "python",
   "pygments_lexer": "ipython3",
   "version": "3.7.5"
  },
  "varInspector": {
   "cols": {
    "lenName": 16,
    "lenType": 16,
    "lenVar": 40
   },
   "kernels_config": {
    "python": {
     "delete_cmd_postfix": "",
     "delete_cmd_prefix": "del ",
     "library": "var_list.py",
     "varRefreshCmd": "print(var_dic_list())"
    },
    "r": {
     "delete_cmd_postfix": ") ",
     "delete_cmd_prefix": "rm(",
     "library": "var_list.r",
     "varRefreshCmd": "cat(var_dic_list()) "
    }
   },
   "oldHeight": 476.9972891807556,
   "position": {
    "height": "40px",
    "left": "886.1412963867188px",
    "right": "7.771739482879639px",
    "top": "117.9891357421875px",
    "width": "358.2608642578125px"
   },
   "types_to_exclude": [
    "module",
    "function",
    "builtin_function_or_method",
    "instance",
    "_Feature"
   ],
   "varInspector_section_display": "none",
   "window_display": true
  }
 },
 "nbformat": 4,
 "nbformat_minor": 4
}
